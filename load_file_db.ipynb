{
 "cells": [
  {
   "cell_type": "markdown",
   "metadata": {},
   "source": [
    "# Copy file to MySQL"
   ]
  },
  {
   "cell_type": "code",
   "execution_count": null,
   "metadata": {},
   "outputs": [],
   "source": [
    "import pandas as pd\n",
    "from bios_utils.asignador_capacidad import AsignadorCapacidad\n",
    "from bios_utils.objetivo_inventario import obtener_objetivo_inventario\n",
    "from models.entities import Empresa, Planta, Ingrediente, Puerto, Operador, Periodo, Intercompany\n",
    "from sqlalchemy import create_engine, select\n",
    "from sqlalchemy.orm import Session\n",
    "from datetime import datetime, timedelta\n",
    "from tqdm import tqdm"
   ]
  },
  {
   "cell_type": "markdown",
   "metadata": {},
   "source": [
    "# Modelo de base de datos"
   ]
  },
  {
   "cell_type": "code",
   "execution_count": null,
   "metadata": {},
   "outputs": [],
   "source": [
    "engine = create_engine(\"sqlite:///base.db\")\n",
    "session = Session(engine)"
   ]
  },
  {
   "cell_type": "code",
   "execution_count": null,
   "metadata": {},
   "outputs": [],
   "source": [
    "# Archivo proporcionado por BIOS\n",
    "bios_input_file = 'data/0_model_template_2204.xlsm'\n",
    "# session = Session(engine)"
   ]
  },
  {
   "cell_type": "markdown",
   "metadata": {},
   "source": [
    "## Parametros a cargar"
   ]
  },
  {
   "cell_type": "code",
   "execution_count": null,
   "metadata": {},
   "outputs": [],
   "source": [
    "# Capacidad de carga de un camion\n",
    "cap_camion = 34000\n",
    "\n",
    "# Capacidad de descarga en puerto por día\n",
    "cap_descarge = 5000000"
   ]
  },
  {
   "cell_type": "code",
   "execution_count": null,
   "metadata": {},
   "outputs": [],
   "source": [
    "# Leer el archivo de excel\n",
    "productos_df = pd.read_excel(io=bios_input_file, sheet_name='ingredientes')\n",
    "plantas_df = pd.read_excel(io=bios_input_file, sheet_name='plantas')\n",
    "asignador = AsignadorCapacidad(bios_input_file)\n",
    "unidades_almacenamiento_df = asignador.obtener_unidades_almacenamiento()\n",
    "safety_stock_df = pd.read_excel(io=bios_input_file, sheet_name='safety_stock')\n",
    "consumo_proyectado_df = pd.read_excel(\n",
    "    io=bios_input_file, sheet_name='consumo_proyectado')\n",
    "transitos_puerto_df = pd.read_excel(\n",
    "    io=bios_input_file, sheet_name='tto_puerto')\n",
    "transitos_planta_df = pd.read_excel(\n",
    "    io=bios_input_file, sheet_name='tto_plantas')\n",
    "inventario_puerto_df = pd.read_excel(\n",
    "    io=bios_input_file, sheet_name='inventario_puerto')\n",
    "costos_almacenamiento_df = pd.read_excel(\n",
    "    io=bios_input_file, sheet_name='costos_almacenamiento_cargas')\n",
    "operaciones_portuarias_df = pd.read_excel(\n",
    "    io=bios_input_file, sheet_name='costos_operacion_portuaria')\n",
    "fletes_df = pd.read_excel(io=bios_input_file, sheet_name='fletes_cop_per_kg')\n",
    "intercompany_df = pd.read_excel(\n",
    "    io=bios_input_file, sheet_name='venta_entre_empresas')\n",
    "objetivo_df = obtener_objetivo_inventario(bios_input_file=bios_input_file)"
   ]
  },
  {
   "cell_type": "code",
   "execution_count": null,
   "metadata": {},
   "outputs": [],
   "source": [
    "operadores_df = pd.read_excel(io=bios_input_file, sheet_name='operadores')"
   ]
  },
  {
   "cell_type": "markdown",
   "metadata": {},
   "source": [
    "# Parametros generales"
   ]
  },
  {
   "cell_type": "markdown",
   "metadata": {},
   "source": [
    "## Ingresando las empresas"
   ]
  },
  {
   "cell_type": "code",
   "execution_count": null,
   "metadata": {},
   "outputs": [],
   "source": [
    "empresas = dict()\n",
    "for empresa in tqdm(plantas_df['empresa'].unique()):\n",
    "    empresa_model = session.execute(\n",
    "        select(Empresa).filter_by(nombre=empresa)).scalar_one_or_none()\n",
    "    if empresa_model is None:\n",
    "        empresa_model = Empresa(nombre=empresa)\n",
    "        session.add(empresa_model)\n",
    "\n",
    "    else:\n",
    "        empresa_model.nombre = empresa\n",
    "    session.commit()\n",
    "    empresas[empresa_model.nombre] = empresa_model"
   ]
  },
  {
   "cell_type": "markdown",
   "metadata": {},
   "source": [
    "## Ingresando ingredientes"
   ]
  },
  {
   "cell_type": "code",
   "execution_count": null,
   "metadata": {},
   "outputs": [],
   "source": [
    "ingredientes = dict()\n",
    "for ingrediente in tqdm(productos_df['nombre'].unique()):\n",
    "    ingrediente_model = session.execute(\n",
    "        select(Ingrediente).filter_by(nombre=ingrediente)).scalar_one_or_none()\n",
    "    if ingrediente_model is None:\n",
    "        ingrediente_model = Ingrediente(nombre=ingrediente)\n",
    "        session.add(ingrediente_model)\n",
    "    else:\n",
    "        ingrediente_model.nombre = ingrediente\n",
    "    session.commit()\n",
    "    ingredientes[ingrediente_model.nombre] = ingrediente_model"
   ]
  },
  {
   "cell_type": "markdown",
   "metadata": {},
   "source": [
    "## Plantas"
   ]
  },
  {
   "cell_type": "code",
   "execution_count": null,
   "metadata": {},
   "outputs": [],
   "source": [
    "for i in tqdm(plantas_df.index):\n",
    "    planta = plantas_df.loc[i]['planta']\n",
    "    empresa = plantas_df.loc[i]['empresa']\n",
    "    operacion_minutos = int(plantas_df.loc[i]['operacion_minutos'])\n",
    "    limpieza = int(plantas_df.loc[i]['minutos_limpieza'])\n",
    "    plataformas = int(plantas_df.loc[i]['plataformas'])\n",
    "\n",
    "    empresa_model = empresas[empresa]\n",
    "\n",
    "    planta_model = session.execute(\n",
    "        select(Planta).filter_by(nombre=planta)).scalar_one_or_none()\n",
    "\n",
    "    if planta_model is None:\n",
    "        planta_model = Planta(empresa=empresa_model,\n",
    "                              nombre=planta,\n",
    "                              latitud=0.0,\n",
    "                              longitud=0.0,\n",
    "                              tiempo_disponible_recepcion=operacion_minutos*plataformas)\n",
    "        session.add(planta_model)\n",
    "    else:\n",
    "        planta_model.empresa = empresa_model\n",
    "        planta_model.nombre = planta\n",
    "        planta_model.latitud = 0.0\n",
    "        planta_model.longitud = 0.0\n",
    "        planta_model.tiempo_disponible_recepcion = operacion_minutos*plataformas\n",
    "\n",
    "\"\"\"\n",
    "    for ingrediente in productos_df['nombre'].unique():\n",
    "\n",
    "        tiempo_descarge = int(plantas_df.loc[i][ingrediente])\n",
    "\n",
    "        ingrediente_model = session.execute(\n",
    "            select(Ingrediente).filter_by(nombre=ingrediente)).scalar_one_or_none()\n",
    "\n",
    "        tiempoDescarguePlanta = session.execute(\n",
    "            select(TiempoDescarguePlanta).filter_by(planta=planta_model,\n",
    "                                                    ingrediente=ingrediente_model)).scalar_one_or_none()\n",
    "\n",
    "        if tiempoDescarguePlanta is None:\n",
    "            tiempoDescarguePlanta = TiempoDescarguePlanta(planta=planta_model,\n",
    "                                                          ingrediente=ingrediente_model,\n",
    "                                                          tiempo_minutos=tiempo_descarge)\n",
    "            session.add(tiempoDescarguePlanta)\n",
    "        else:\n",
    "            tiempoDescarguePlanta.planta = planta_model\n",
    "            tiempoDescarguePlanta.ingrediente = ingrediente_model\n",
    "            tiempoDescarguePlanta.tiempo_minutos = tiempo_descarge\n",
    "\"\"\"\n",
    "session.commit()"
   ]
  },
  {
   "cell_type": "markdown",
   "metadata": {},
   "source": [
    "## Puertos"
   ]
  },
  {
   "cell_type": "code",
   "execution_count": null,
   "metadata": {},
   "outputs": [],
   "source": [
    "puertos = dict()\n",
    "for i in operadores_df.groupby([\"puerto\", \"nombre_puerto\"]).count().index:\n",
    "    puerto = Puerto()\n",
    "    puerto.codigo = i[0]\n",
    "    puerto.nombre = i[1]\n",
    "    session.add(puerto)\n",
    "    puertos[puerto.codigo] = puerto\n",
    "\n",
    "session.commit()"
   ]
  },
  {
   "cell_type": "markdown",
   "metadata": {},
   "source": [
    "## Operadores"
   ]
  },
  {
   "cell_type": "code",
   "execution_count": null,
   "metadata": {},
   "outputs": [],
   "source": [
    "operadores_df.groupby([\"operador\"]).count().index"
   ]
  },
  {
   "cell_type": "code",
   "execution_count": null,
   "metadata": {},
   "outputs": [],
   "source": [
    "operadores = dict()\n",
    "for i in operadores_df.groupby([\"operador\"]).count().index:\n",
    "    operador = Operador()\n",
    "    operador.nombre = i\n",
    "    session.add(operador)\n",
    "    operadores[operador.nombre] = operador\n",
    "    session.commit()"
   ]
  },
  {
   "cell_type": "markdown",
   "metadata": {},
   "source": [
    "## Periodos"
   ]
  },
  {
   "cell_type": "code",
   "execution_count": null,
   "metadata": {},
   "outputs": [],
   "source": [
    "periodos = dict()\n",
    "for t in consumo_proyectado_df.drop(columns=[\"planta\", \"ingrediente\"]).columns:\n",
    "    periodo = Periodo()\n",
    "    periodo.fecha = datetime.strptime(t, \"%d/%m/%Y\")\n",
    "    session.add(periodo)\n",
    "    periodos[periodo.fecha] = periodo\n",
    "\n",
    "session.commit()"
   ]
  },
  {
   "cell_type": "markdown",
   "metadata": {},
   "source": [
    "# Lo que sigue no se ha actualizado"
   ]
  },
  {
   "cell_type": "markdown",
   "metadata": {},
   "source": [
    "## Intercompany"
   ]
  },
  {
   "cell_type": "code",
   "execution_count": null,
   "metadata": {},
   "outputs": [],
   "source": [
    "intercompany_df = intercompany_df.melt(\n",
    "    id_vars='origen', value_vars=['contegral', 'finca'], var_name='destino', value_name='valor')\n",
    "intercompany_df"
   ]
  },
  {
   "cell_type": "code",
   "execution_count": null,
   "metadata": {},
   "outputs": [],
   "source": [
    "for i in tqdm(intercompany_df.index):\n",
    "    origen = intercompany_df.loc[i]['origen']\n",
    "    destino = intercompany_df.loc[i]['destino']\n",
    "    valor = float(intercompany_df.loc[i]['valor'])\n",
    "\n",
    "    empresa_origen_model = session.execute(\n",
    "        select(Empresa).filter_by(nombre=origen)).scalar_one_or_none()\n",
    "    empresa_destino_model = session.execute(\n",
    "        select(Empresa).filter_by(nombre=destino)).scalar_one_or_none()\n",
    "\n",
    "    if not empresa_destino_model is None and not empresa_origen_model is None:\n",
    "        print(empresa_origen_model.id, empresa_destino_model.id)\n",
    "        intercompany_model = session.execute(select(Intercompany).filter_by(id_empresa_origen=empresa_origen_model.id,\n",
    "                                                                            id_empresa_destino=empresa_destino_model.id)).scalar_one_or_none()\n",
    "        if intercompany_model is None:\n",
    "            intercompany_model = Intercompany(\n",
    "                origen=empresa_origen_model,\n",
    "                destino=empresa_destino_model,\n",
    "                valor_intercompany=valor)\n",
    "            session.add(intercompany_model)\n",
    "        else:\n",
    "            intercompany_model.origen = empresa_origen_model\n",
    "            intercompany_model.destino = empresa_destino_model\n",
    "            intercompany_model.valor_intercompany = valor\n",
    "    else:\n",
    "        print('la empresa origen o destino no existe en la base de datos')\n",
    "\n",
    "    session.commit()"
   ]
  },
  {
   "cell_type": "markdown",
   "metadata": {},
   "source": [
    "## Fletes"
   ]
  },
  {
   "cell_type": "code",
   "execution_count": null,
   "metadata": {},
   "outputs": [],
   "source": [
    "for puerto in tqdm(fletes_df['puerto'].unique()):\n",
    "    puerto_model = session.execute(\n",
    "        select(Puerto).filter_by(nombre=puerto)).scalar_one_or_none()\n",
    "    if puerto_model is None:\n",
    "        puerto_model = Puerto(nombre=puerto)\n",
    "        session.add(puerto_model)\n",
    "    else:\n",
    "        puerto_model.nombre = puerto\n",
    "session.commit()"
   ]
  },
  {
   "cell_type": "code",
   "execution_count": null,
   "metadata": {},
   "outputs": [],
   "source": [
    "for operador in tqdm(fletes_df['operador'].unique()):\n",
    "    operador_model = session.execute(\n",
    "        select(Operadore).filter_by(nombre=operador)).scalar_one_or_none()\n",
    "    if operador_model is None:\n",
    "        operador_model = Operadore(nombre=operador)\n",
    "        session.add(operador_model)\n",
    "    else:\n",
    "        operador_model.nombre = operador\n",
    "\n",
    "session.commit()"
   ]
  },
  {
   "cell_type": "code",
   "execution_count": null,
   "metadata": {},
   "outputs": [],
   "source": [
    "for i in tqdm(fletes_df.index):\n",
    "    puerto = fletes_df.loc[i]['puerto']\n",
    "    operador = fletes_df.loc[i]['operador']\n",
    "    ingrediente = fletes_df.loc[i]['ingrediente']\n",
    "\n",
    "    for planta in plantas_df['planta'].unique():\n",
    "\n",
    "        valor = fletes_df.loc[i][planta]\n",
    "\n",
    "        planta_model = session.execute(\n",
    "            select(Planta).filter_by(nombre=planta)).scalar_one_or_none()\n",
    "        puerto_model = session.execute(\n",
    "            select(Puerto).filter_by(nombre=puerto)).scalar_one_or_none()\n",
    "        operador_model = session.execute(\n",
    "            select(Operadore).filter_by(nombre=operador)).scalar_one_or_none()\n",
    "        ingrediente_model = session.execute(\n",
    "            select(Ingrediente).filter_by(nombre=ingrediente)).scalar_one_or_none()\n",
    "\n",
    "        flete_model = session.execute(select(Flete).filter_by(puerto=puerto_model,\n",
    "                                                              operadore=operador_model,\n",
    "                                                              ingrediente=ingrediente_model,\n",
    "                                                              planta=planta_model)).scalar_one_or_none()\n",
    "\n",
    "        if flete_model is None:\n",
    "            flete_model = Flete(puerto=puerto_model,\n",
    "                                operadore=operador_model,\n",
    "                                ingrediente=ingrediente_model,\n",
    "                                planta=planta_model,\n",
    "                                valor_flete_kg=valor)\n",
    "\n",
    "            session.add(flete_model)\n",
    "        else:\n",
    "            flete_model.puerto = puerto_model\n",
    "            flete_model.operadore = operador_model\n",
    "            flete_model.ingrediente = ingrediente_model\n",
    "            flete_model.planta = planta_model\n",
    "            flete_model.valor_flete_kg = valor\n",
    "\n",
    "session.commit()"
   ]
  },
  {
   "cell_type": "markdown",
   "metadata": {},
   "source": [
    "## Safety Stock"
   ]
  },
  {
   "cell_type": "code",
   "execution_count": null,
   "metadata": {},
   "outputs": [],
   "source": [
    "for i in tqdm(safety_stock_df.index):\n",
    "\n",
    "    planta = safety_stock_df.loc[i]['planta']\n",
    "    ingrediente = safety_stock_df.loc[i]['ingrediente']\n",
    "    dias = int(safety_stock_df.loc[i]['dias_ss'])\n",
    "\n",
    "    planta_model = session.execute(\n",
    "        select(Planta).filter_by(nombre=planta)).scalar_one_or_none()\n",
    "\n",
    "    ingrediente_model = session.execute(\n",
    "        select(Ingrediente).filter_by(nombre=ingrediente)).scalar_one_or_none()\n",
    "\n",
    "    safety_stock_model = session.execute(select(SafetyStock).filter_by(planta=planta_model,\n",
    "                                                                       ingrediente=ingrediente_model)).scalar_one_or_none()\n",
    "\n",
    "    if safety_stock_model is None:\n",
    "\n",
    "        safety_stock_model = SafetyStock(\n",
    "            planta=planta_model,\n",
    "            ingrediente=ingrediente_model,\n",
    "            dias_safety_stock=dias)\n",
    "\n",
    "        session.add(safety_stock_model)\n",
    "    else:\n",
    "\n",
    "        safety_stock_model.planta = planta_model\n",
    "        safety_stock_model.ingrediente = ingrediente_model\n",
    "        safety_stock_model.dias_safety_stock = dias\n",
    "\n",
    "session.commit()"
   ]
  },
  {
   "cell_type": "markdown",
   "metadata": {},
   "source": [
    "## Costos de operacion portuaria"
   ]
  },
  {
   "cell_type": "code",
   "execution_count": null,
   "metadata": {},
   "outputs": [],
   "source": [
    "for i in tqdm(operaciones_portuarias_df.index):\n",
    "    operacion = operaciones_portuarias_df.loc[i]['tipo_operacion']\n",
    "    operador = operaciones_portuarias_df.loc[i]['operador']\n",
    "    puerto = operaciones_portuarias_df.loc[i]['puerto']\n",
    "    ingrediente = operaciones_portuarias_df.loc[i]['ingrediente']\n",
    "    valor_kg = float(operaciones_portuarias_df.loc[i]['valor_kg'])\n",
    "\n",
    "    operador_model = session.execute(\n",
    "        select(Operadore).filter_by(nombre=operador)).scalar_one_or_none()\n",
    "\n",
    "    puerto_model = session.execute(\n",
    "        select(Puerto).filter_by(nombre=puerto)).scalar_one_or_none()\n",
    "\n",
    "    ingrediente_model = session.execute(\n",
    "        select(Ingrediente).filter_by(nombre=ingrediente)).scalar_one_or_none()\n",
    "\n",
    "    operacion_model = session.execute(select(CostosPortuario).filter_by(tipo_operacion=operacion,\n",
    "                                                                        ingrediente=ingrediente_model,\n",
    "                                                                        operadore=operador_model,\n",
    "                                                                        puerto=puerto_model)).scalar_one_or_none()\n",
    "\n",
    "    if operacion_model is None:\n",
    "        operacion_model = CostosPortuario(tipo_operacion=operacion,\n",
    "                                          ingrediente=ingrediente_model,\n",
    "                                          operadore=operador_model,\n",
    "                                          puerto=puerto_model,\n",
    "                                          valor_kg=valor_kg)\n",
    "        session.add(operacion_model)\n",
    "    else:\n",
    "        operacion_model.tipo_operacion = operacion\n",
    "        operacion_model.ingrediente = ingrediente_model\n",
    "        operacion_model.operadore = operador_model\n",
    "        operacion_model.puerto = puerto_model\n",
    "        operacion_model.valor_kg = valor_kg\n",
    "\n",
    "    session.commit()"
   ]
  },
  {
   "cell_type": "markdown",
   "metadata": {},
   "source": [
    "# Informacion específica del archivo\n",
    "Archivos"
   ]
  },
  {
   "cell_type": "code",
   "execution_count": null,
   "metadata": {},
   "outputs": [],
   "source": [
    "file_model = session.execute(select(Archivo).filter_by(\n",
    "    file_name=bios_input_file)).scalar_one_or_none()\n",
    "\n",
    "if file_model is None:\n",
    "    file_model = Archivo(file_name=bios_input_file,\n",
    "                         upload_date=datetime.now(),\n",
    "                         status='loaded')\n",
    "    session.add(file_model)\n",
    "else:\n",
    "    file_model.file_name = bios_input_file\n",
    "    file_model.status = 'loaded'\n",
    "\n",
    "session.commit()"
   ]
  },
  {
   "cell_type": "markdown",
   "metadata": {},
   "source": [
    "## Consumo proyectdo"
   ]
  },
  {
   "cell_type": "code",
   "execution_count": null,
   "metadata": {},
   "outputs": [],
   "source": [
    "index_values = ['planta', 'ingrediente']\n",
    "consumo_proyectado_df = consumo_proyectado_df.melt(id_vars=index_values,\n",
    "                                                   value_vars=consumo_proyectado_df.drop(\n",
    "                                                       columns=index_values).columns,\n",
    "                                                   var_name='fecha',\n",
    "                                                   value_name='consumo_kg')"
   ]
  },
  {
   "cell_type": "code",
   "execution_count": null,
   "metadata": {},
   "outputs": [],
   "source": [
    "for i in tqdm(consumo_proyectado_df.index):\n",
    "    planta = consumo_proyectado_df.loc[i]['planta']\n",
    "    ingrediente = consumo_proyectado_df.loc[i]['ingrediente']\n",
    "    fecha = datetime.strptime(\n",
    "        consumo_proyectado_df.loc[i]['fecha'], '%d/%m/%Y')\n",
    "    consumo_kg = float(consumo_proyectado_df.loc[i]['consumo_kg'])\n",
    "\n",
    "    planta_model = session.execute(\n",
    "        select(Planta).filter_by(nombre=planta)).scalar_one_or_none()\n",
    "    ingrediente_model = session.execute(\n",
    "        select(Ingrediente).filter_by(nombre=ingrediente)).scalar_one_or_none()\n",
    "    file_model = session.execute(select(Archivo).filter_by(\n",
    "        file_name=bios_input_file)).scalar_one_or_none()\n",
    "    consumo_model = session.execute(select(ConsumoProyectado).filter_by(archivo=file_model,\n",
    "                                                                        planta=planta_model,\n",
    "                                                                        ingrediente=ingrediente_model,\n",
    "                                                                        fecha_consumo=fecha)).scalar_one_or_none()\n",
    "\n",
    "    if consumo_model is None:\n",
    "        consumo_model = ConsumoProyectado(planta=planta_model,\n",
    "                                          ingrediente=ingrediente_model,\n",
    "                                          fecha_consumo=fecha,\n",
    "                                          archivo=file_model,\n",
    "                                          consumo_kg=consumo_kg)\n",
    "        session.add(consumo_model)\n",
    "    else:\n",
    "        consumo_model.planta = planta_model\n",
    "        consumo_model.ingrediente = ingrediente_model\n",
    "        consumo_model.fecha = fecha\n",
    "        consumo_model.archivo = file_model\n",
    "        consumo_model.consumo_kg = consumo_kg\n",
    "\n",
    "session.commit()"
   ]
  },
  {
   "cell_type": "markdown",
   "metadata": {},
   "source": [
    "## Unidades de almacenamiento\n",
    "Unidades, ingredientes, Capacidades e inventarios"
   ]
  },
  {
   "cell_type": "code",
   "execution_count": null,
   "metadata": {},
   "outputs": [],
   "source": [
    "unidades_almacenamiento_df.head()"
   ]
  },
  {
   "cell_type": "code",
   "execution_count": null,
   "metadata": {},
   "outputs": [],
   "source": [
    "file_model = session.execute(select(Archivo).filter_by(\n",
    "    file_name=bios_input_file)).scalar_one_or_none()\n",
    "\n",
    "ingredientes_list = list(productos_df['nombre'].unique())\n",
    "\n",
    "for i in tqdm(unidades_almacenamiento_df.index):\n",
    "    planta_nombre = unidades_almacenamiento_df.loc[i]['planta']\n",
    "    nombre_ua = unidades_almacenamiento_df.loc[i]['unidad_almacenamiento']\n",
    "    ingrediente_actual = unidades_almacenamiento_df.loc[i]['ingrediente_actual']\n",
    "    cantidad_actual = int(unidades_almacenamiento_df.loc[i]['cantidad_actual'])\n",
    "    capacidad = int(unidades_almacenamiento_df.loc[i][ingrediente_actual])\n",
    "\n",
    "    planta_model = session.execute(select(Planta).filter_by(\n",
    "        nombre=planta_nombre)).scalar_one_or_none()\n",
    "\n",
    "    ingrediente_model = session.execute(\n",
    "        select(Ingrediente).filter_by(nombre=ingrediente_actual)).scalar_one_or_none()\n",
    "\n",
    "    unidade_model = session.execute(select(Unidade).filter_by(\n",
    "        archivo=file_model,\n",
    "        planta=planta_model,\n",
    "        ingrediente=ingrediente_model,\n",
    "        nombre=nombre_ua)).scalar_one_or_none()\n",
    "\n",
    "    if unidade_model is None:\n",
    "        unidade_model = Unidade(\n",
    "            archivo=file_model,\n",
    "            planta=planta_model,\n",
    "            ingrediente=ingrediente_model,\n",
    "            nombre=nombre_ua,\n",
    "            inventario=cantidad_actual,\n",
    "            capacidad=capacidad\n",
    "        )\n",
    "\n",
    "        session.add(unidade_model)\n",
    "    else:\n",
    "        unidade_model.archivo = file_model\n",
    "        unidade_model.planta = planta_model\n",
    "        unidade_model.ingrediente = ingrediente_model\n",
    "        unidade_model.nombre = nombre_ua\n",
    "        unidade_model.inventario = cantidad_actual\n",
    "        unidade_model.capacidad = capacidad\n",
    "\n",
    "\n",
    "session.commit()"
   ]
  },
  {
   "cell_type": "markdown",
   "metadata": {},
   "source": [
    "## Transito a plantas"
   ]
  },
  {
   "cell_type": "code",
   "execution_count": null,
   "metadata": {},
   "outputs": [],
   "source": [
    "transitos_planta_df['fecha_llegada'] = pd.to_datetime(\n",
    "    transitos_planta_df['fecha_llegada'])\n",
    "transitos_planta_df.head()"
   ]
  },
  {
   "cell_type": "code",
   "execution_count": null,
   "metadata": {},
   "outputs": [],
   "source": [
    "for i in tqdm(transitos_planta_df.index):\n",
    "    planta = transitos_planta_df.loc[i]['planta']\n",
    "    ingrediente = transitos_planta_df.loc[i]['ingrediente']\n",
    "    cantidad = int(transitos_planta_df.loc[i]['cantidad'])\n",
    "    fecha = transitos_planta_df.loc[i]['fecha_llegada']\n",
    "    fecha = fecha.date()\n",
    "\n",
    "    file_model = session.execute(select(Archivo).filter_by(\n",
    "        file_name=bios_input_file)).scalar_one_or_none()\n",
    "    planta_model = session.execute(\n",
    "        select(Planta).filter_by(nombre=planta)).scalar_one_or_none()\n",
    "    ingrediente_model = session.execute(\n",
    "        select(Ingrediente).filter_by(nombre=ingrediente)).scalar_one_or_none()\n",
    "\n",
    "    transitos_planta_model = session.execute(select(TransitosPlanta).filter_by(archivo=file_model,\n",
    "                                                                               planta=planta_model,\n",
    "                                                                               ingrediente=ingrediente_model,\n",
    "                                                                               fecha_llegada=fecha)).scalar_one_or_none()\n",
    "\n",
    "    if transitos_planta_model is None:\n",
    "        transitos_planta_model = TransitosPlanta(\n",
    "            archivo=file_model,\n",
    "            planta=planta_model,\n",
    "            ingrediente=ingrediente_model,\n",
    "            fecha_llegada=fecha,\n",
    "            cantidad=cantidad\n",
    "        )\n",
    "        session.add(transitos_planta_model)\n",
    "\n",
    "    else:\n",
    "        transitos_planta_model.archivo = file_model\n",
    "        transitos_planta_model.planta = planta_model\n",
    "        transitos_planta_model.ingrediente = ingrediente_model\n",
    "        transitos_planta_model.fecha_llegada = fecha\n",
    "        transitos_planta_model.cantidad = cantidad\n",
    "\n",
    "session.commit()"
   ]
  },
  {
   "cell_type": "markdown",
   "metadata": {},
   "source": [
    "## Inventario en puertos"
   ]
  },
  {
   "cell_type": "code",
   "execution_count": null,
   "metadata": {},
   "outputs": [],
   "source": [
    "for i in tqdm(inventario_puerto_df.index):\n",
    "\n",
    "    empresa = inventario_puerto_df.loc[i]['empresa']\n",
    "    operador = inventario_puerto_df.loc[i]['operador']\n",
    "    puerto = inventario_puerto_df.loc[i]['puerto']\n",
    "    ingrediente = inventario_puerto_df.loc[i]['ingrediente']\n",
    "    importacion = inventario_puerto_df.loc[i]['importacion']\n",
    "    fecha = inventario_puerto_df.loc[i]['fecha_llegada']\n",
    "    fecha = fecha.date()\n",
    "    cantidad = inventario_puerto_df.loc[i]['cantidad_kg']\n",
    "    valor_kg = inventario_puerto_df.loc[i]['valor_cif_kg']\n",
    "\n",
    "    file_model = session.execute(select(Archivo).filter_by(\n",
    "        file_name=bios_input_file)).scalar_one_or_none()\n",
    "    empresa_model = session.execute(\n",
    "        select(Empresa).filter_by(nombre=empresa)).scalar_one_or_none()\n",
    "    operador_model = session.execute(\n",
    "        select(Operadore).filter_by(nombre=operador)).scalar_one_or_none()\n",
    "    puerto_model = session.execute(\n",
    "        select(Puerto).filter_by(nombre=puerto)).scalar_one_or_none()\n",
    "    ingrediente_model = session.execute(\n",
    "        select(Ingrediente).filter_by(nombre=ingrediente)).scalar_one_or_none()\n",
    "\n",
    "    importacion_model = session.execute(select(Importacione).filter_by(archivo=file_model,\n",
    "                                                                       empresa=empresa_model,\n",
    "                                                                       operadore=operador_model,\n",
    "                                                                       puerto=puerto_model,\n",
    "                                                                       ingrediente=ingrediente_model,\n",
    "                                                                       importacion=importacion)).scalar_one_or_none()\n",
    "\n",
    "    if importacion_model is None:\n",
    "        importacion_model = Importacione(archivo=file_model,\n",
    "                                         empresa=empresa_model,\n",
    "                                         ingrediente=ingrediente_model,\n",
    "                                         operadore=operador_model,\n",
    "                                         puerto=puerto_model,\n",
    "                                         importacion=importacion,\n",
    "                                         cantidad_puerto_kg=cantidad,\n",
    "                                         fecha_llegada=fecha,\n",
    "                                         valor_kg=valor_kg)\n",
    "        session.add(importacion_model)\n",
    "\n",
    "    else:\n",
    "        importacion_model.archivo = file_model\n",
    "        importacion_model.empresa = empresa_model\n",
    "        importacion_model.ingrediente = ingrediente_model\n",
    "        importacion_model.operadore = operador_model\n",
    "        importacion_model.puerto = puerto_model\n",
    "        importacion_model.importacion = importacion\n",
    "        importacion_model.cantidad_puerto_kg = cantidad\n",
    "        importacion_model.fecha_llegada = fecha\n",
    "        importacion_model.valor_kg = valor_kg\n",
    "\n",
    "session.commit()"
   ]
  },
  {
   "cell_type": "markdown",
   "metadata": {},
   "source": [
    "## Transitos a puertos"
   ]
  },
  {
   "cell_type": "code",
   "execution_count": null,
   "metadata": {},
   "outputs": [],
   "source": [
    "def insertar_transito_puerto(session, importacion_model, fecha, cantidad):\n",
    "\n",
    "    transitos_puerto_model = session.execute(select(TransitosPuerto).filter_by(importacione=importacion_model,\n",
    "                                                                               fecha_descarge=fecha.date())).scalar_one_or_none()\n",
    "\n",
    "    if transitos_puerto_model is None:\n",
    "        transitos_puerto_model = TransitosPuerto(\n",
    "            importacione=importacion_model,\n",
    "            fecha_descarge=fecha,\n",
    "            cantidad=cantidad)\n",
    "        session.add(transitos_puerto_model)\n",
    "    else:\n",
    "        transitos_puerto_model.importacione = importacion_model\n",
    "        transitos_puerto_model.fecha_descarge = fecha\n",
    "        transitos_puerto_model.cantidad = cantidad\n",
    "\n",
    "    return transitos_puerto_model"
   ]
  },
  {
   "cell_type": "code",
   "execution_count": null,
   "metadata": {},
   "outputs": [],
   "source": [
    "file_model = session.execute(select(Archivo).filter_by(\n",
    "    file_name=bios_input_file)).scalar_one_or_none()\n",
    "\n",
    "for i in tqdm(transitos_puerto_df.index):\n",
    "    # print('-----------------')\n",
    "    # print(transitos_puerto_df.loc[i])\n",
    "    empresa = transitos_puerto_df.loc[i]['empresa']\n",
    "    operador = transitos_puerto_df.loc[i]['operador']\n",
    "    puerto = transitos_puerto_df.loc[i]['puerto']\n",
    "    ingrediente = transitos_puerto_df.loc[i]['ingrediente']\n",
    "    importacion = transitos_puerto_df.loc[i]['importacion']\n",
    "    fecha = transitos_puerto_df.loc[i]['fecha_llegada']\n",
    "    cantidad = int(transitos_puerto_df.loc[i]['cantidad_kg'])\n",
    "    valor_kg = float(transitos_puerto_df.loc[i]['valor_kg'])\n",
    "\n",
    "    empresa_model = session.execute(\n",
    "        select(Empresa).filter_by(nombre=empresa)).scalar_one_or_none()\n",
    "    operador_model = session.execute(\n",
    "        select(Operadore).filter_by(nombre=operador)).scalar_one_or_none()\n",
    "    puerto_model = session.execute(\n",
    "        select(Puerto).filter_by(nombre=puerto)).scalar_one_or_none()\n",
    "    ingrediente_model = session.execute(\n",
    "        select(Ingrediente).filter_by(nombre=ingrediente)).scalar_one_or_none()\n",
    "\n",
    "    importacion_model = session.execute(select(Importacione).filter_by(archivo=file_model,\n",
    "                                                                       empresa=empresa_model,\n",
    "                                                                       operadore=operador_model,\n",
    "                                                                       puerto=puerto_model,\n",
    "                                                                       ingrediente=ingrediente_model,\n",
    "                                                                       importacion=importacion)).scalar_one_or_none()\n",
    "\n",
    "    if importacion_model is None:\n",
    "        importacion_model = Importacione(archivo=file_model,\n",
    "                                         empresa=empresa_model,\n",
    "                                         ingrediente=ingrediente_model,\n",
    "                                         operadore=operador_model,\n",
    "                                         puerto=puerto_model,\n",
    "                                         importacion=importacion,\n",
    "                                         cantidad_puerto_kg=0.0,\n",
    "                                         fecha_llegada=fecha.date(),\n",
    "                                         valor_kg=valor_kg)\n",
    "        session.add(importacion_model)\n",
    "\n",
    "    else:\n",
    "        importacion_model.archivo = file_model\n",
    "        importacion_model.empresa = empresa_model\n",
    "        importacion_model.ingrediente = ingrediente_model\n",
    "        importacion_model.operadore = operador_model\n",
    "        importacion_model.puerto = puerto_model\n",
    "        importacion_model.importacion = importacion\n",
    "        importacion_model.cantidad_puerto_kg = 0.0\n",
    "        importacion_model.fecha_llegada = fecha.date()\n",
    "        importacion_model.valor_kg = valor_kg\n",
    "\n",
    "    # print('importacion.id', importacion_model.id)\n",
    "\n",
    "    # Agregar las llegadas segun la capacidad del puerto\n",
    "    while cantidad > cap_descarge:\n",
    "        insertar_transito_puerto(\n",
    "            session, importacion_model, fecha, cap_descarge)\n",
    "\n",
    "        cantidad -= cap_descarge\n",
    "        fecha = fecha + timedelta(days=1)\n",
    "\n",
    "    if cantidad > 0:\n",
    "        insertar_transito_puerto(session, importacion_model, fecha, cantidad)\n",
    "\n",
    "    session.commit()"
   ]
  },
  {
   "cell_type": "markdown",
   "metadata": {},
   "source": [
    "## Costos de almacenamiento de cargas"
   ]
  },
  {
   "cell_type": "code",
   "execution_count": null,
   "metadata": {},
   "outputs": [],
   "source": [
    "for i in tqdm(costos_almacenamiento_df.index):\n",
    "    empresa = costos_almacenamiento_df.loc[i]['empresa']\n",
    "    operador = costos_almacenamiento_df.loc[i]['operador']\n",
    "    puerto = costos_almacenamiento_df.loc[i]['puerto']\n",
    "    ingrediente = costos_almacenamiento_df.loc[i]['ingrediente']\n",
    "    importacion = costos_almacenamiento_df.loc[i]['importacion']\n",
    "    fecha = costos_almacenamiento_df.loc[i]['fecha_corte']\n",
    "    valor_kg = float(costos_almacenamiento_df.loc[i]['valor_kg'])\n",
    "\n",
    "    file_model = session.execute(select(Archivo).filter_by(\n",
    "        file_name=bios_input_file)).scalar_one_or_none()\n",
    "    empresa_model = session.execute(\n",
    "        select(Empresa).filter_by(nombre=empresa)).scalar_one_or_none()\n",
    "    operador_model = session.execute(\n",
    "        select(Operadore).filter_by(nombre=operador)).scalar_one_or_none()\n",
    "    puerto_model = session.execute(\n",
    "        select(Puerto).filter_by(nombre=puerto)).scalar_one_or_none()\n",
    "    ingrediente_model = session.execute(\n",
    "        select(Ingrediente).filter_by(nombre=ingrediente)).scalar_one_or_none()\n",
    "\n",
    "    importacion_model = session.execute(select(Importacione).filter_by(archivo=file_model,\n",
    "                                                                       empresa=empresa_model,\n",
    "                                                                       operadore=operador_model,\n",
    "                                                                       puerto=puerto_model,\n",
    "                                                                       ingrediente=ingrediente_model,\n",
    "                                                                       importacion=importacion)).scalar_one_or_none()\n",
    "\n",
    "    if not importacion_model is None:\n",
    "        costo_almacenamiento_model = session.execute(select(CostosAlmacenamientoPuerto).filter_by(importacione=importacion_model,\n",
    "                                                                                                  fecha_cobro=fecha.date())).scalar_one_or_none()\n",
    "\n",
    "        if costo_almacenamiento_model is None:\n",
    "            costo_almacenamiento_model = CostosAlmacenamientoPuerto(\n",
    "                importacione=importacion_model,\n",
    "                fecha_cobro=fecha.date(),\n",
    "                valor_a_cobrar_kg=valor_kg)\n",
    "\n",
    "            session.add(costo_almacenamiento_model)\n",
    "        else:\n",
    "            costo_almacenamiento_model.importacione = importacion_model\n",
    "            costo_almacenamiento_model.fecha_cobro = fecha.date()\n",
    "            costo_almacenamiento_model.valor_a_cobrar_kg = valor_kg\n",
    "\n",
    "    else:\n",
    "        print(\n",
    "            f'la importacion {importacion} en el puerto {puerto}, del operador {operador} e ingrediente {ingrediente} NO existe')\n",
    "\n",
    "session.commit()"
   ]
  },
  {
   "cell_type": "markdown",
   "metadata": {},
   "source": [
    "## Objetivo de inventario"
   ]
  },
  {
   "cell_type": "code",
   "execution_count": null,
   "metadata": {},
   "outputs": [],
   "source": [
    "objetivo_inventario_df = objetivo_df['objetivo_inventario'].copy()"
   ]
  },
  {
   "cell_type": "code",
   "execution_count": null,
   "metadata": {},
   "outputs": [],
   "source": [
    "for i in tqdm(objetivo_inventario_df.index):\n",
    "    planta = objetivo_inventario_df.loc[i]['planta']\n",
    "    ingrediente = objetivo_inventario_df.loc[i]['ingrediente']\n",
    "    objetivo = objetivo_inventario_df.loc[i]['objetivo_dio']\n",
    "    kilogramos = objetivo_inventario_df.loc[i]['objetivo_kg']\n",
    "\n",
    "    planta_model = session.execute(\n",
    "        select(Planta).filter_by(nombre=planta)).scalar_one_or_none()\n",
    "    ingrediente_model = session.execute(\n",
    "        select(Ingrediente).filter_by(nombre=ingrediente)).scalar_one_or_none()\n",
    "\n",
    "    objetivo_model = session.execute(select(ObjetivosInventario).filter_by(\n",
    "        archivo=file_model, ingrediente=ingrediente_model, planta=planta_model)).scalar_one_or_none()\n",
    "\n",
    "    if objetivo_model is None:\n",
    "\n",
    "        objetivo_model = ObjetivosInventario(\n",
    "            archivo=file_model,\n",
    "            ingrediente=ingrediente_model,\n",
    "            planta=planta_model,\n",
    "            objetivo=objetivo,\n",
    "            kilogramos=kilogramos\n",
    "        )\n",
    "\n",
    "        session.add(objetivo_model)\n",
    "    else:\n",
    "        objetivo_model.archivo = file_model\n",
    "        objetivo_model.ingrediente = ingrediente_model\n",
    "        objetivo_model.planta = planta_model\n",
    "        objetivo_model.objetivo = objetivo\n",
    "        objetivo_model.kilogramos = kilogramos\n",
    "\n",
    "session.commit()"
   ]
  }
 ],
 "metadata": {
  "kernelspec": {
   "display_name": "Python 3 (ipykernel)",
   "language": "python",
   "name": "python3"
  },
  "language_info": {
   "codemirror_mode": {
    "name": "ipython",
    "version": 3
   },
   "file_extension": ".py",
   "mimetype": "text/x-python",
   "name": "python",
   "nbconvert_exporter": "python",
   "pygments_lexer": "ipython3",
   "version": "3.11.4"
  }
 },
 "nbformat": 4,
 "nbformat_minor": 4
}
