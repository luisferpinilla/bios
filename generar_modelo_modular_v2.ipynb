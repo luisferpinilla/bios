{
 "cells": [
  {
   "cell_type": "code",
   "execution_count": null,
   "metadata": {},
   "outputs": [],
   "source": [
    "import pandas as pd\n",
    "import numpy as np\n",
    "import pulp as pu\n",
    "from tqdm import tqdm\n",
    "import os\n",
    "\n",
    "from bios_utils.problema import Problema"
   ]
  },
  {
   "cell_type": "markdown",
   "metadata": {},
   "source": [
    "# Lectura de datos desde archivo"
   ]
  },
  {
   "cell_type": "code",
   "execution_count": null,
   "metadata": {},
   "outputs": [],
   "source": [
    "# Archivo proporcionado por BIOS\n",
    "bios_input_file = 'data/0_model_template_1207.xlsm'\n",
    "\n",
    "# Capacidad de descarga en puerto por día\n",
    "cap_descarge = 5000000"
   ]
  },
  {
   "cell_type": "markdown",
   "metadata": {},
   "source": [
    "## Parámetros generales"
   ]
  },
  {
   "cell_type": "code",
   "execution_count": null,
   "metadata": {},
   "outputs": [],
   "source": [
    "problema = Problema(bios_input_file=bios_input_file, cap_carga_camion=34000)"
   ]
  },
  {
   "cell_type": "markdown",
   "metadata": {},
   "source": [
    "# Creacion del Modelo de alcance de Objetivo"
   ]
  },
  {
   "cell_type": "code",
   "execution_count": null,
   "metadata": {},
   "outputs": [],
   "source": [
    "from bios_utils.evitar_backorder_model import EvitarBackorder\n",
    "modelo_01 = EvitarBackorder(problema)\n",
    "modelo_01.solve(15)\n",
    "reporte_despachos = modelo_01.get_reporte_despachos()\n",
    "reporte_inventario_puerto = modelo_01.get_reporte_inventario_puerto()\n",
    "reporte_inventario_planta = modelo_01.get_reporte_inventario_planta()"
   ]
  },
  {
   "cell_type": "markdown",
   "metadata": {},
   "source": [
    "## Fase 2\n",
    "Dado que ya se tendrá un plan de recepcion de camiones en las plantas, la fase 2 asigna el invenatario en puerto a los camiones\n",
    "a despachar, minimizando el costo de almacenamiento y transporte"
   ]
  },
  {
   "cell_type": "code",
   "execution_count": null,
   "metadata": {},
   "outputs": [],
   "source": [
    "# Demanda de la planta\n",
    "demanda_planta = dict()\n",
    "for planta in tqdm(problema.plantas):\n",
    "    demanda_planta[planta] = dict()\n",
    "    for ingrediente in problema.ingredientes:\n",
    "        demanda_planta[planta][ingrediente] = dict()\n",
    "        for periodo in problema.periodos[1:-2:]:\n",
    "            demanda_planta[planta][ingrediente][periodo] = modelo_01.despachos_planta[ingrediente][planta][periodo].varValue"
   ]
  },
  {
   "cell_type": "markdown",
   "metadata": {},
   "source": [
    "## Variables:"
   ]
  },
  {
   "cell_type": "code",
   "execution_count": null,
   "metadata": {},
   "outputs": [],
   "source": [
    "# Inventario en puerto\n",
    "var_inventario_puerto = dict()\n",
    "for importacion in tqdm(problema.importaciones):\n",
    "    var_inventario_puerto[importacion] = dict()\n",
    "    for periodo in problema.periodos:\n",
    "        var_name = f\"inv_{'_'.join(list(importacion)).replace(' ','')}_{periodo}\"\n",
    "        var = pu.LpVariable(name=var_name, lowBound=0, cat=pu.LpContinuous)\n",
    "        var_inventario_puerto[importacion][periodo] = var"
   ]
  },
  {
   "cell_type": "code",
   "execution_count": null,
   "metadata": {},
   "outputs": [],
   "source": [
    "# Despachos hacia plantas\n",
    "var_despachos = dict()\n",
    "for importacion in tqdm(problema.importaciones):\n",
    "    var_despachos[importacion] = dict()\n",
    "    for planta in problema.plantas:\n",
    "        var_despachos[importacion][planta] = dict()\n",
    "        for periodo in problema.periodos[1:-2:]:\n",
    "            var_name = f'desp_{\"_\".join(importacion)}_{planta}_{periodo}'\n",
    "            var = pu.LpVariable(name=var_name,\n",
    "                                lowBound=0,\n",
    "                                upBound=1000,\n",
    "                                cat=pu.LpInteger)\n",
    "            var_despachos[importacion][planta][periodo] = var"
   ]
  },
  {
   "cell_type": "markdown",
   "metadata": {},
   "source": [
    "## Funcion Objetivo"
   ]
  },
  {
   "cell_type": "markdown",
   "metadata": {},
   "source": [
    "Minimizar el costo de despacho y almacenamiento\n",
    "\n",
    "$ \\sum_{i}{\\sum_{j}{CR_{i,j}X_{i,j}}} $\n"
   ]
  },
  {
   "cell_type": "code",
   "execution_count": null,
   "metadata": {},
   "outputs": [],
   "source": [
    "# Costo de transporte\n",
    "costo_transporte_fobj = [costo_transporte[i][j][t]*var_despachos[i][j][t]\n",
    "                         for i in problema.importaciones for j in problema.plantas for t in problema.periodos[1:-2:]]"
   ]
  },
  {
   "cell_type": "code",
   "execution_count": null,
   "metadata": {},
   "outputs": [],
   "source": [
    "# Costo Almacenamiento\n",
    "costo_almacenamiento_fobj = [problema.cap_camion*problema.costo_almacenamiento[i][t] *\n",
    "                             var_inventario_puerto[i][t] for i in problema.importaciones for t in problema.periodos]"
   ]
  },
  {
   "cell_type": "code",
   "execution_count": null,
   "metadata": {},
   "outputs": [],
   "source": [
    "fobj = costo_transporte_fobj + costo_almacenamiento_fobj"
   ]
  },
  {
   "cell_type": "markdown",
   "metadata": {},
   "source": [
    "## Restricciones"
   ]
  },
  {
   "cell_type": "markdown",
   "metadata": {},
   "source": [
    "Cumplimiento de la demanda\n",
    "\n",
    "$ \\sum_{i}\\sum_{j}\\sum_{t}{X_{ijt}} >=  D_{jt}  $"
   ]
  },
  {
   "cell_type": "code",
   "execution_count": null,
   "metadata": {},
   "outputs": [],
   "source": [
    "cumplimiento_demanda_rest = list()\n",
    "for j in tqdm(plantas):\n",
    "    for ingrediente in ingredientes:\n",
    "        imp_list = [importaciones[i] for i in range(\n",
    "            len(importaciones)) if importaciones[i][3] == ingrediente]\n",
    "        for t in periodos[1:-2:]:\n",
    "            left = pu.lpSum([var_despachos[i][j][t]\n",
    "                            for i in importaciones if i[3] == ingrediente])\n",
    "            right = demanda_planta[j][ingrediente][t]\n",
    "            rest_name = f'cumplir_demanda_{ingrediente}_{j}_{t}'\n",
    "            rest = (left == right, rest_name)\n",
    "            cumplimiento_demanda_rest.append(rest)"
   ]
  },
  {
   "cell_type": "code",
   "execution_count": null,
   "metadata": {},
   "outputs": [],
   "source": [
    "len(set([x for x in importaciones]))"
   ]
  },
  {
   "cell_type": "markdown",
   "metadata": {},
   "source": [
    "Balance de inventario\n",
    "\n",
    "$ I_{it} = I_{it-1} + A_{it} - \\sum_{j}{X_{ijt}} \\forall{i}, \\forall {1>t>T-2}$"
   ]
  },
  {
   "cell_type": "code",
   "execution_count": null,
   "metadata": {},
   "outputs": [],
   "source": [
    "balance_inventario_puerto_rest = list()\n",
    "for i in tqdm(importaciones):\n",
    "\n",
    "    # Generar inventario inicial como restriccion\n",
    "    Iit = var_inventario_puerto[i][periodos[0]]\n",
    "    if i in inventario_inicial_puerto.keys():\n",
    "        Iit_1 = inventario_inicial_puerto[i]\n",
    "    else:\n",
    "        Iit_1 = 0\n",
    "    Ait = llegadas_puerto[i][periodos[0]]\n",
    "    rest_name = f\"balance_inv_{'_'.join(i).replace(' ','_')}_{periodos[0]}\"\n",
    "    rest = (Iit == Iit_1 + Ait, rest_name)\n",
    "    balance_inventario_puerto_rest.append(rest)\n",
    "\n",
    "    # Balance de inventario con respecto al periodo anterior\n",
    "    for t in periodos[1:-2:]:\n",
    "        Iit = var_inventario_puerto[i][t]\n",
    "        t_1 = periodos[periodos.index(t)-1]\n",
    "        Iit_1 = var_inventario_puerto[i][t_1]\n",
    "        Ait = llegadas_puerto[i][t]\n",
    "        sum_des = [34000*var_despachos[i][j][t] for j in plantas]\n",
    "        rest_name = f\"balance_inv_{'_'.join(i).replace(' ','_')}_{t}\"\n",
    "        rest = (Iit == Iit_1 + Ait - pu.lpSum(sum_des), rest_name)\n",
    "        balance_inventario_puerto_rest.append(rest)"
   ]
  },
  {
   "cell_type": "code",
   "execution_count": null,
   "metadata": {},
   "outputs": [],
   "source": [
    "balance_inventario_puerto_rest[0][1]"
   ]
  },
  {
   "cell_type": "markdown",
   "metadata": {},
   "source": [
    "## Resolver el model"
   ]
  },
  {
   "cell_type": "code",
   "execution_count": null,
   "metadata": {},
   "outputs": [],
   "source": [
    "# Cantidad CPU habilitadas para trabajar\n",
    "cpu_count = max(1, os.cpu_count()-1)\n",
    "\n",
    "problema = pu.LpProblem(name='Bios_Solver_fase_2', sense=pu.LpMinimize)\n",
    "\n",
    "# Agregando funcion objetivo\n",
    "problema += pu.lpSum(fobj)\n",
    "\n",
    "# Agregando balance de masa puerto\n",
    "for rest in balance_inventario_puerto_rest:\n",
    "    problema += rest\n",
    "\n",
    "# cumplimiento de la demanda en la planta\n",
    "for rest in cumplimiento_demanda_rest:\n",
    "    problema += rest\n",
    "\n",
    "\n",
    "t_limit_minutes = 5\n",
    "\n",
    "print('------------------------------------')\n",
    "print('cpu count', cpu_count)\n",
    "print('ejecutando ', len(periodos), 'periodos')\n",
    "engine_cbc = pu.PULP_CBC_CMD(\n",
    "    timeLimit=60*t_limit_minutes,\n",
    "    gapRel=0.05,\n",
    "    warmStart=False,\n",
    "    threads=cpu_count)\n",
    "\n",
    "engine_glpk = pu.GLPK_CMD(\n",
    "    mip=True,\n",
    "    timeLimit=60*t_limit_minutes\n",
    ")\n",
    "\n",
    "problema.writeLP('model_2.lp')\n",
    "\n",
    "problema.solve(solver=engine_cbc)"
   ]
  },
  {
   "cell_type": "code",
   "execution_count": null,
   "metadata": {},
   "outputs": [],
   "source": [
    "pu.LpStatus[problema.status]"
   ]
  },
  {
   "cell_type": "markdown",
   "metadata": {},
   "source": [
    "## Generar Reporte"
   ]
  },
  {
   "cell_type": "code",
   "execution_count": null,
   "metadata": {},
   "outputs": [],
   "source": [
    "reporte_puerto = list()\n",
    "for i in tqdm(importaciones):\n",
    "    for t in periodos[:-2:]:\n",
    "        dato = dict()\n",
    "        dato['Empresa'] = i[0]\n",
    "        dato['Puerto'] = i[1]\n",
    "        dato['Operador'] = i[2]\n",
    "        dato['ingrediente'] = i[3]\n",
    "        dato['Importacion'] = i[4]\n",
    "        dato['Fecha'] = t\n",
    "        dato['Inventario'] = var_inventario_puerto[i][t].varValue\n",
    "        dato['llegadas'] = llegadas_puerto[i][t]\n",
    "        dato['Costo_Almacenamiento'] = int(costo_almacenamiento[i][t])\n",
    "        dato['Costo_Total_Almacenamiento'] = dato['Inventario'] * \\\n",
    "            dato['Costo_Almacenamiento']\n",
    "        reporte_puerto.append(dato)\n",
    "\n",
    "reporte_puerto_df = pd.DataFrame(reporte_puerto)"
   ]
  },
  {
   "cell_type": "code",
   "execution_count": null,
   "metadata": {},
   "outputs": [],
   "source": [
    "reporte_despachos = list()\n",
    "for i in tqdm(importaciones):\n",
    "    for j in plantas:\n",
    "        for t in periodos[1:-2:]:\n",
    "            dato = dict()\n",
    "            dato['Empresa'] = i[0]\n",
    "            dato['Puerto'] = i[1]\n",
    "            dato['Operador'] = i[2]\n",
    "            dato['ingrediente'] = i[3]\n",
    "            dato['Importacion'] = i[4]\n",
    "            dato['Fecha'] = t\n",
    "            dato['Planta'] = j\n",
    "            dato['Camiones_despachados'] = var_despachos[i][j][t].varValue\n",
    "            dato['Costo_Transporte_camion'] = costo_transporte[i][j][t]\n",
    "            dato['Costo_Transprote'] = dato['Camiones_despachados'] * \\\n",
    "                dato['Costo_Transporte_camion']\n",
    "            reporte_despachos.append(dato)\n",
    "\n",
    "reporte_despachos_df = pd.DataFrame(reporte_despachos)"
   ]
  },
  {
   "cell_type": "code",
   "execution_count": null,
   "metadata": {},
   "outputs": [],
   "source": [
    "reporte_inventario_planta = list()\n",
    "for planta in inventario_planta.keys():\n",
    "    for ingrediente in inventario_planta[planta].keys():\n",
    "        for periodo in inventario_planta[planta][ingrediente]:\n",
    "            dato = {\n",
    "                'variable': 'inventario en planta',\n",
    "                'planta': planta,\n",
    "                'ingrediente': ingrediente,\n",
    "                'periodo': periodo,\n",
    "                'valor': inventario_planta[planta][ingrediente][periodo].varValue,\n",
    "                'capacidad': capacidad_planta[planta][ingrediente],\n",
    "                'consumo': consumo_proyectado[planta][ingrediente][periodo],\n",
    "                'backorder': backorder[planta][ingrediente][periodo].varValue,\n",
    "                'objetivo': objetivo_inventario[planta][ingrediente]\n",
    "            }\n",
    "            reporte_inventario_planta.append(dato)\n",
    "\n",
    "reporte_planta_df = pd.DataFrame(reporte_inventario_planta)"
   ]
  },
  {
   "cell_type": "code",
   "execution_count": null,
   "metadata": {},
   "outputs": [],
   "source": [
    "with pd.ExcelWriter('reporte_final.xlsx') as writer:\n",
    "    reporte_puerto_df.to_excel(\n",
    "        writer, sheet_name='inventario_puerto', index=False)\n",
    "    reporte_despachos_df.to_excel(writer, sheet_name='despachos', index=False)\n",
    "    reporte_planta_df.to_excel(\n",
    "        writer, sheet_name='inventario_planta', index=False)"
   ]
  }
 ],
 "metadata": {
  "kernelspec": {
   "display_name": "Python 3 (ipykernel)",
   "language": "python",
   "name": "python3"
  },
  "language_info": {
   "codemirror_mode": {
    "name": "ipython",
    "version": 3
   },
   "file_extension": ".py",
   "mimetype": "text/x-python",
   "name": "python",
   "nbconvert_exporter": "python",
   "pygments_lexer": "ipython3",
   "version": "3.11.4"
  }
 },
 "nbformat": 4,
 "nbformat_minor": 4
}
