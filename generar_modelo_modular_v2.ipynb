{
 "cells": [
  {
   "cell_type": "code",
   "execution_count": null,
   "metadata": {},
   "outputs": [],
   "source": [
    "import pandas as pd\n",
    "import numpy as np\n",
    "import pulp as pu\n",
    "from tqdm import tqdm\n",
    "import os\n",
    "\n",
    "from bios_utils.problema import Problema"
   ]
  },
  {
   "cell_type": "markdown",
   "metadata": {},
   "source": [
    "# Lectura de datos desde archivo"
   ]
  },
  {
   "cell_type": "code",
   "execution_count": null,
   "metadata": {},
   "outputs": [],
   "source": [
    "# Archivo proporcionado por BIOS\n",
    "bios_input_file = 'data/0_model_template_20240705.xlsm'\n",
    "\n",
    "# Capacidad de descarga en puerto por día\n",
    "cap_descarge = 5000000"
   ]
  },
  {
   "cell_type": "markdown",
   "metadata": {},
   "source": [
    "## Parámetros generales"
   ]
  },
  {
   "cell_type": "code",
   "execution_count": null,
   "metadata": {},
   "outputs": [],
   "source": [
    "problema = Problema(bios_input_file=bios_input_file, cap_carga_camion=34000)"
   ]
  },
  {
   "cell_type": "markdown",
   "metadata": {},
   "source": [
    "# Creacion del Modelo de alcance de Objetivo"
   ]
  },
  {
   "cell_type": "code",
   "execution_count": null,
   "metadata": {},
   "outputs": [],
   "source": [
    "from bios_utils.evitar_backorder_model import EvitarBackorder"
   ]
  },
  {
   "cell_type": "code",
   "execution_count": null,
   "metadata": {},
   "outputs": [],
   "source": [
    "modelo_01 = EvitarBackorder(problema)"
   ]
  },
  {
   "cell_type": "code",
   "execution_count": null,
   "metadata": {},
   "outputs": [],
   "source": [
    "modelo_01.solve()"
   ]
  },
  {
   "cell_type": "markdown",
   "metadata": {},
   "source": [
    "##  Reporte Fase 1"
   ]
  },
  {
   "cell_type": "code",
   "execution_count": null,
   "metadata": {},
   "outputs": [],
   "source": [
    "reporte_despachos = list()\n",
    "for ingrediente in modelo_01.despachos_planta.keys():\n",
    "    for planta in modelo_01.despachos_planta[ingrediente].keys():\n",
    "        for periodo in modelo_01.despachos_planta[ingrediente][planta].keys():\n",
    "            valor = modelo_01.despachos_planta[ingrediente][planta][periodo].varValue\n",
    "            tiempo_proceso = problema.tiempos_proceso[planta][ingrediente]\n",
    "            dato = {\n",
    "                'variable': 'despacho a planta',\n",
    "                'ingrediente': ingrediente,\n",
    "                'planta': planta,\n",
    "                'periodo': periodo,\n",
    "                'valor': valor,\n",
    "                'tiempo_recepcion': valor*tiempo_proceso\n",
    "            }\n",
    "            reporte_despachos.append(dato)"
   ]
  },
  {
   "cell_type": "code",
   "execution_count": null,
   "metadata": {},
   "outputs": [],
   "source": [
    "reporte_inventario_puerto = list()\n",
    "for ingrediente in modelo_01.inventario_puerto.keys():\n",
    "    for periodo in modelo_01.inventario_puerto[ingrediente].keys():\n",
    "        dato = {\n",
    "            'variable': 'inventario en puerto',\n",
    "            'ingrediente': ingrediente,\n",
    "            'periodo': periodo,\n",
    "            'valor': modelo_01.inventario_puerto[ingrediente][periodo].varValue\n",
    "        }\n",
    "        reporte_inventario_puerto.append(dato)"
   ]
  },
  {
   "cell_type": "code",
   "execution_count": null,
   "metadata": {},
   "outputs": [],
   "source": [
    "reporte_inventario_planta = list()\n",
    "for planta in modelo_01.inventario_planta.keys():\n",
    "    for ingrediente in modelo_01.inventario_planta[planta].keys():\n",
    "        for periodo in modelo_01.inventario_planta[planta][ingrediente]:\n",
    "            dato = {\n",
    "                'variable': 'inventario en planta',\n",
    "                'planta': planta,\n",
    "                'ingrediente': ingrediente,\n",
    "                'periodo': periodo,\n",
    "                'valor': modelo_01.inventario_planta[planta][ingrediente][periodo].varValue,\n",
    "                'capacidad': modelo_01.capacidad_planta[planta][ingrediente],\n",
    "                'consumo': modelo_01.consumo_proyectado[planta][ingrediente][periodo],\n",
    "                'objetivo':modelo_01. objetivo_inventario[planta][ingrediente]\n",
    "            }\n",
    "            reporte_inventario_planta.append(dato)"
   ]
  },
  {
   "cell_type": "markdown",
   "metadata": {},
   "source": [
    "## Fase 2\n",
    "Dado que ya se tendrá un plan de recepcion de camiones en las plantas, la fase 2 asigna el invenatario en puerto a los camiones\n",
    "a despachar, minimizando el costo de almacenamiento y transporte"
   ]
  },
  {
   "cell_type": "markdown",
   "metadata": {},
   "source": [
    "## Parámetros"
   ]
  },
  {
   "cell_type": "markdown",
   "metadata": {},
   "source": [
    "### Lista de importaciones"
   ]
  },
  {
   "cell_type": "code",
   "execution_count": null,
   "metadata": {},
   "outputs": [],
   "source": [
    "importaciones = list()\n",
    "for i in tqdm(range(cargas_despachables_df.shape[0])):\n",
    "    inventario = int(cargas_despachables_df.iloc[i]['Inventario'])\n",
    "    llegadas = int(cargas_despachables_df.iloc[i]['Llegada'])\n",
    "\n",
    "    if inventario > 34000 or llegadas > 34000:\n",
    "\n",
    "        index = (cargas_despachables_df.iloc[i]['Empresa'],\n",
    "                 cargas_despachables_df.iloc[i]['Puerto'],\n",
    "                 cargas_despachables_df.iloc[i]['Operador'],\n",
    "                 cargas_despachables_df.iloc[i]['Ingrediente'],\n",
    "                 cargas_despachables_df.iloc[i]['Importacion'])\n",
    "\n",
    "        importaciones.append(index)\n",
    "\n",
    "importaciones = list(set(importaciones))"
   ]
  },
  {
   "cell_type": "markdown",
   "metadata": {},
   "source": [
    "### Llegadas a puerto"
   ]
  },
  {
   "cell_type": "code",
   "execution_count": null,
   "metadata": {},
   "outputs": [],
   "source": [
    "transitos_a_puerto_df = cargas_despachables_df[cargas_despachables_df['Llegada'] > 0].copy(\n",
    ")\n",
    "transitos_a_puerto_df.set_index(\n",
    "    ['Empresa', 'Puerto', 'Operador', 'Ingrediente', 'Importacion', 'Fecha'], inplace=True)"
   ]
  },
  {
   "cell_type": "code",
   "execution_count": null,
   "metadata": {},
   "outputs": [],
   "source": [
    "llegadas_puerto = dict()\n",
    "for i in tqdm(importaciones):\n",
    "    llegadas_puerto[i] = dict()\n",
    "    for periodo in periodos:\n",
    "        i2 = tuple(list(i) + [periodo])\n",
    "\n",
    "        if i2 in transitos_a_puerto_df.index:\n",
    "            cantidad_puerto = int(transitos_a_puerto_df.loc[i2]['Llegada'])\n",
    "        else:\n",
    "            cantidad_puerto = 0\n",
    "        llegadas_puerto[i][periodo] = cantidad_puerto"
   ]
  },
  {
   "cell_type": "markdown",
   "metadata": {},
   "source": [
    "### Inventario inicial Puerto"
   ]
  },
  {
   "cell_type": "code",
   "execution_count": null,
   "metadata": {},
   "outputs": [],
   "source": [
    "inventario_inicial_puerto_df = cargas_despachables_df[cargas_despachables_df['Inventario'] > 0].copy(\n",
    ")\n",
    "inventario_inicial_puerto_df.set_index(\n",
    "    keys=['Empresa', 'Puerto', 'Operador', 'Ingrediente', 'Importacion'], inplace=True)"
   ]
  },
  {
   "cell_type": "code",
   "execution_count": null,
   "metadata": {},
   "outputs": [],
   "source": [
    "inventario_inicial_puerto = dict()\n",
    "for i in tqdm(importaciones):\n",
    "    if i in inventario_inicial_puerto_df.index:\n",
    "        cantidad = int(\n",
    "            inventario_inicial_puerto_df.loc[i]['Inventario'])\n",
    "    else:\n",
    "        cantidad = 0\n",
    "    inventario_inicial_puerto[i] = cantidad"
   ]
  },
  {
   "cell_type": "markdown",
   "metadata": {},
   "source": [
    "### Costos de transporte"
   ]
  },
  {
   "cell_type": "code",
   "execution_count": null,
   "metadata": {},
   "outputs": [],
   "source": [
    "columns = ['Empresa', 'Puerto', 'Operador',\n",
    "           'Ingrediente', 'Importacion', 'valor_kg']\n",
    "importaciones_df = cargas_despachables_df.groupby(\n",
    "    columns)[[]].count().reset_index().copy()"
   ]
  },
  {
   "cell_type": "code",
   "execution_count": null,
   "metadata": {},
   "outputs": [],
   "source": [
    "df = importaciones_df.rename(columns={'Empresa': 'Empresa_Origen'}).copy()\n",
    "\n",
    "print(df.shape)"
   ]
  },
  {
   "cell_type": "code",
   "execution_count": null,
   "metadata": {},
   "outputs": [],
   "source": [
    "# Cruzar con fechas de consumo\n",
    "df = pd.merge(left=df,\n",
    "              right=pd.DataFrame(periodos).rename(columns={0: 'Fecha'}),\n",
    "              how='cross')\n",
    "print(df.shape)"
   ]
  },
  {
   "cell_type": "code",
   "execution_count": null,
   "metadata": {},
   "outputs": [],
   "source": [
    "temp = fletes_df.copy()\n",
    "columns = ['puerto', 'operador', 'ingrediente']\n",
    "temp = temp.melt(id_vars=columns, value_vars=temp.drop(\n",
    "    columns=columns).columns, var_name='Planta', value_name='flete_kg')\n",
    "temp['Empresa_Destino'] = temp['Planta'].map(empresas_dict)\n",
    "temp['Flete_Camion'] = 34000*temp['flete_kg']\n",
    "temp.drop(columns=['flete_kg'], inplace=True)\n",
    "temp.rename(columns={'puerto': 'Puerto', 'operador': 'Operador',\n",
    "            'ingrediente': 'Ingrediente'}, inplace=True)\n",
    "print(temp.shape)"
   ]
  },
  {
   "cell_type": "code",
   "execution_count": null,
   "metadata": {},
   "outputs": [],
   "source": [
    "# Cruzar con fletes\n",
    "df = pd.merge(left=df,\n",
    "              right=temp,\n",
    "              left_on=['Puerto', 'Operador', 'Ingrediente'],\n",
    "              right_on=['Puerto', 'Operador', 'Ingrediente'],\n",
    "              how='left')\n",
    "print(df.shape)"
   ]
  },
  {
   "cell_type": "code",
   "execution_count": null,
   "metadata": {},
   "outputs": [],
   "source": [
    "costo_portuario_directo_df = costo_portuario_directo_df.rename(columns={'operador': 'Operador',\n",
    "                                                                        'puerto': 'Puerto',\n",
    "                                                                        'ingrediente': 'Ingrediente',\n",
    "                                                                        'valor_kg': 'Directo'})"
   ]
  },
  {
   "cell_type": "code",
   "execution_count": null,
   "metadata": {},
   "outputs": [],
   "source": [
    "# cruzar transitos con operacion portuaria de despacho directo\n",
    "temp = pd.merge(left=transitos_a_puerto_df.reset_index().drop(columns=['Llegada', 'Camiones', 'valor_kg', 'Inventario']).rename(columns={'Empresa': 'Empresa_Origen'}),\n",
    "                right=costo_portuario_directo_df,\n",
    "                left_on=['Operador', 'Puerto', 'Ingrediente'],\n",
    "                right_on=['Operador', 'Puerto', 'Ingrediente'],\n",
    "                how='left')\n",
    "# temp['Fecha'] = temp['Fecha'].apply(lambda x: x.strftime(\"%Y-%m-%d\"))\n",
    "temp['Directo'] = 34000*temp['Directo']\n",
    "print(temp.shape)"
   ]
  },
  {
   "cell_type": "code",
   "execution_count": null,
   "metadata": {},
   "outputs": [],
   "source": [
    "# Anexar costos portuarios por despacho directo\n",
    "df = pd.merge(left=df,\n",
    "              right=temp,\n",
    "              left_on=['Empresa_Origen', 'Puerto', 'Operador',\n",
    "                       'Ingrediente', 'Importacion', 'Fecha'],\n",
    "              right_on=['Empresa_Origen', 'Puerto', 'Operador',\n",
    "                        'Ingrediente', 'Importacion', 'Fecha'],\n",
    "              how='left')\n",
    "df['Directo'] = df['Directo'].fillna(0)"
   ]
  },
  {
   "cell_type": "code",
   "execution_count": null,
   "metadata": {},
   "outputs": [],
   "source": [
    "intercompany_df = intercompany_df.melt(id_vars='origen', value_vars=empresas, var_name='Empresa_Destino',\n",
    "                                       value_name='intercompany').rename(columns={'origen': 'Empresa_Origen'})"
   ]
  },
  {
   "cell_type": "code",
   "execution_count": null,
   "metadata": {},
   "outputs": [],
   "source": [
    "# Intercompany\n",
    "df = pd.merge(left=df,\n",
    "              right=intercompany_df,\n",
    "              left_on=['Empresa_Origen', 'Empresa_Destino'],\n",
    "              right_on=['Empresa_Origen', 'Empresa_Destino'],\n",
    "              how='left')"
   ]
  },
  {
   "cell_type": "code",
   "execution_count": null,
   "metadata": {},
   "outputs": [],
   "source": [
    "df['Directo'].unique()"
   ]
  },
  {
   "cell_type": "code",
   "execution_count": null,
   "metadata": {},
   "outputs": [],
   "source": [
    "# Calcular costo total despacho\n",
    "df['CostoTotalCamion'] = df['Flete_Camion'] + df['Directo'] + \\\n",
    "    (34000*df['intercompany']*df['valor_kg'])"
   ]
  },
  {
   "cell_type": "code",
   "execution_count": null,
   "metadata": {},
   "outputs": [],
   "source": [
    "costo_transporte_df = df.copy()"
   ]
  },
  {
   "cell_type": "code",
   "execution_count": null,
   "metadata": {},
   "outputs": [],
   "source": [
    "costo_transporte_df.set_index(keys=['Empresa_Origen', 'Puerto', 'Operador',\n",
    "                              'Ingrediente', 'Importacion', 'Planta', 'Fecha'], inplace=True)"
   ]
  },
  {
   "cell_type": "code",
   "execution_count": null,
   "metadata": {},
   "outputs": [],
   "source": [
    "costo_transporte = dict()\n",
    "for i in tqdm(importaciones):\n",
    "    costo_transporte[i] = dict()\n",
    "    for planta in plantas:\n",
    "        costo_transporte[i][planta] = dict()\n",
    "        for periodo in periodos:\n",
    "            impo_index = tuple(list(i) + [planta, periodo])\n",
    "            if impo_index in costo_transporte_df.index:\n",
    "                costo = costo_transporte_df.loc[impo_index]['CostoTotalCamion']\n",
    "                costo_transporte[i][planta][periodo] = costo"
   ]
  },
  {
   "cell_type": "markdown",
   "metadata": {},
   "source": [
    "### Costo de almacenamiento"
   ]
  },
  {
   "cell_type": "code",
   "execution_count": null,
   "metadata": {},
   "outputs": [],
   "source": [
    "df = costos_almacenamiento_df.set_index(\n",
    "    ['empresa', 'puerto', 'operador', 'ingrediente', 'importacion', 'fecha_corte'])"
   ]
  },
  {
   "cell_type": "code",
   "execution_count": null,
   "metadata": {},
   "outputs": [],
   "source": [
    "costo_almacenamiento = dict()\n",
    "for i in tqdm(importaciones):\n",
    "    costo_almacenamiento[i] = dict()\n",
    "    for periodo in periodos:\n",
    "        impo_index = tuple(list(i) + [periodo])\n",
    "        if impo_index in df.index:\n",
    "            costo = df.loc[impo_index]['valor_kg']\n",
    "        else:\n",
    "            costo = 0.0\n",
    "\n",
    "        if not periodo in costo_almacenamiento[i].keys():\n",
    "            costo_almacenamiento[i][periodo] = dict()\n",
    "        costo_almacenamiento[i][periodo] = costo"
   ]
  },
  {
   "cell_type": "code",
   "execution_count": null,
   "metadata": {},
   "outputs": [],
   "source": [
    "# Demanda de la planta\n",
    "demanda_planta = dict()\n",
    "for planta in tqdm(plantas):\n",
    "    demanda_planta[planta] = dict()\n",
    "    for ingrediente in ingredientes:\n",
    "        demanda_planta[planta][ingrediente] = dict()\n",
    "        for periodo in periodos[1:-2:]:\n",
    "            demanda_planta[planta][ingrediente][periodo] = despachos_planta[ingrediente][planta][periodo].varValue"
   ]
  },
  {
   "cell_type": "markdown",
   "metadata": {},
   "source": [
    "## Variables:"
   ]
  },
  {
   "cell_type": "code",
   "execution_count": null,
   "metadata": {},
   "outputs": [],
   "source": [
    "# Inventario en puerto\n",
    "var_inventario_puerto = dict()\n",
    "for importacion in tqdm(importaciones):\n",
    "    var_inventario_puerto[importacion] = dict()\n",
    "    for periodo in periodos:\n",
    "        var_name = f\"inv_{'_'.join(list(importacion)).replace(' ','')}_{periodo}\"\n",
    "        var = pu.LpVariable(name=var_name, lowBound=0, cat=pu.LpContinuous)\n",
    "        var_inventario_puerto[importacion][periodo] = var"
   ]
  },
  {
   "cell_type": "code",
   "execution_count": null,
   "metadata": {},
   "outputs": [],
   "source": [
    "# Despachos hacia plantas\n",
    "var_despachos = dict()\n",
    "for importacion in tqdm(importaciones):\n",
    "    var_despachos[importacion] = dict()\n",
    "    for planta in plantas:\n",
    "        var_despachos[importacion][planta] = dict()\n",
    "        for periodo in periodos[1:-2:]:\n",
    "            var_name = f'desp_{\"_\".join(importacion)}_{planta}_{periodo}'\n",
    "            var = pu.LpVariable(name=var_name,\n",
    "                                lowBound=0,\n",
    "                                upBound=1000,\n",
    "                                cat=pu.LpInteger)\n",
    "            var_despachos[importacion][planta][periodo] = var"
   ]
  },
  {
   "cell_type": "markdown",
   "metadata": {},
   "source": [
    "## Funcion Objetivo"
   ]
  },
  {
   "cell_type": "markdown",
   "metadata": {},
   "source": [
    "Minimizar el costo de despacho y almacenamiento\n",
    "\n",
    "$ \\sum_{i}{\\sum_{j}{CR_{i,j}X_{i,j}}} $\n"
   ]
  },
  {
   "cell_type": "code",
   "execution_count": null,
   "metadata": {},
   "outputs": [],
   "source": [
    "# Costo de transporte\n",
    "costo_transporte_fobj = [costo_transporte[i][j][t]*var_despachos[i][j][t]\n",
    "                         for i in importaciones for j in plantas for t in periodos[1:-2:]]"
   ]
  },
  {
   "cell_type": "code",
   "execution_count": null,
   "metadata": {},
   "outputs": [],
   "source": [
    "# Costo Almacenamiento\n",
    "costo_almacenamiento_fobj = [34000*costo_almacenamiento[i][t] *\n",
    "                             var_inventario_puerto[i][t] for i in importaciones for t in periodos]"
   ]
  },
  {
   "cell_type": "code",
   "execution_count": null,
   "metadata": {},
   "outputs": [],
   "source": [
    "fobj = costo_transporte_fobj + costo_almacenamiento_fobj"
   ]
  },
  {
   "cell_type": "markdown",
   "metadata": {},
   "source": [
    "## Restricciones"
   ]
  },
  {
   "cell_type": "markdown",
   "metadata": {},
   "source": [
    "Cumplimiento de la demanda\n",
    "\n",
    "$ \\sum_{i}\\sum_{j}\\sum_{t}{X_{ijt}} >=  D_{jt}  $"
   ]
  },
  {
   "cell_type": "code",
   "execution_count": null,
   "metadata": {},
   "outputs": [],
   "source": [
    "cumplimiento_demanda_rest = list()\n",
    "for j in tqdm(plantas):\n",
    "    for ingrediente in ingredientes:\n",
    "        imp_list = [importaciones[i] for i in range(\n",
    "            len(importaciones)) if importaciones[i][3] == ingrediente]\n",
    "        for t in periodos[1:-2:]:\n",
    "            left = pu.lpSum([var_despachos[i][j][t]\n",
    "                            for i in importaciones if i[3] == ingrediente])\n",
    "            right = demanda_planta[j][ingrediente][t]\n",
    "            rest_name = f'cumplir_demanda_{ingrediente}_{j}_{t}'\n",
    "            rest = (left == right, rest_name)\n",
    "            cumplimiento_demanda_rest.append(rest)"
   ]
  },
  {
   "cell_type": "code",
   "execution_count": null,
   "metadata": {},
   "outputs": [],
   "source": [
    "len(set([x for x in importaciones]))"
   ]
  },
  {
   "cell_type": "markdown",
   "metadata": {},
   "source": [
    "Balance de inventario\n",
    "\n",
    "$ I_{it} = I_{it-1} + A_{it} - \\sum_{j}{X_{ijt}} \\forall{i}, \\forall {1>t>T-2}$"
   ]
  },
  {
   "cell_type": "code",
   "execution_count": null,
   "metadata": {},
   "outputs": [],
   "source": [
    "balance_inventario_puerto_rest = list()\n",
    "for i in tqdm(importaciones):\n",
    "\n",
    "    # Generar inventario inicial como restriccion\n",
    "    Iit = var_inventario_puerto[i][periodos[0]]\n",
    "    if i in inventario_inicial_puerto.keys():\n",
    "        Iit_1 = inventario_inicial_puerto[i]\n",
    "    else:\n",
    "        Iit_1 = 0\n",
    "    Ait = llegadas_puerto[i][periodos[0]]\n",
    "    rest_name = f\"balance_inv_{'_'.join(i).replace(' ','_')}_{periodos[0]}\"\n",
    "    rest = (Iit == Iit_1 + Ait, rest_name)\n",
    "    balance_inventario_puerto_rest.append(rest)\n",
    "\n",
    "    # Balance de inventario con respecto al periodo anterior\n",
    "    for t in periodos[1:-2:]:\n",
    "        Iit = var_inventario_puerto[i][t]\n",
    "        t_1 = periodos[periodos.index(t)-1]\n",
    "        Iit_1 = var_inventario_puerto[i][t_1]\n",
    "        Ait = llegadas_puerto[i][t]\n",
    "        sum_des = [34000*var_despachos[i][j][t] for j in plantas]\n",
    "        rest_name = f\"balance_inv_{'_'.join(i).replace(' ','_')}_{t}\"\n",
    "        rest = (Iit == Iit_1 + Ait - pu.lpSum(sum_des), rest_name)\n",
    "        balance_inventario_puerto_rest.append(rest)"
   ]
  },
  {
   "cell_type": "code",
   "execution_count": null,
   "metadata": {},
   "outputs": [],
   "source": [
    "balance_inventario_puerto_rest[0][1]"
   ]
  },
  {
   "cell_type": "markdown",
   "metadata": {},
   "source": [
    "## Resolver el model"
   ]
  },
  {
   "cell_type": "code",
   "execution_count": null,
   "metadata": {},
   "outputs": [],
   "source": [
    "# Cantidad CPU habilitadas para trabajar\n",
    "cpu_count = max(1, os.cpu_count()-1)\n",
    "\n",
    "problema = pu.LpProblem(name='Bios_Solver_fase_2', sense=pu.LpMinimize)\n",
    "\n",
    "# Agregando funcion objetivo\n",
    "problema += pu.lpSum(fobj)\n",
    "\n",
    "# Agregando balance de masa puerto\n",
    "for rest in balance_inventario_puerto_rest:\n",
    "    problema += rest\n",
    "\n",
    "# cumplimiento de la demanda en la planta\n",
    "for rest in cumplimiento_demanda_rest:\n",
    "    problema += rest\n",
    "\n",
    "\n",
    "t_limit_minutes = 5\n",
    "\n",
    "print('------------------------------------')\n",
    "print('cpu count', cpu_count)\n",
    "print('ejecutando ', len(periodos), 'periodos')\n",
    "engine_cbc = pu.PULP_CBC_CMD(\n",
    "    timeLimit=60*t_limit_minutes,\n",
    "    gapRel=0.05,\n",
    "    warmStart=False,\n",
    "    threads=cpu_count)\n",
    "\n",
    "engine_glpk = pu.GLPK_CMD(\n",
    "    mip=True,\n",
    "    timeLimit=60*t_limit_minutes\n",
    ")\n",
    "\n",
    "problema.writeLP('model_2.lp')\n",
    "\n",
    "problema.solve(solver=engine_cbc)"
   ]
  },
  {
   "cell_type": "code",
   "execution_count": null,
   "metadata": {},
   "outputs": [],
   "source": [
    "pu.LpStatus[problema.status]"
   ]
  },
  {
   "cell_type": "markdown",
   "metadata": {},
   "source": [
    "## Generar Reporte"
   ]
  },
  {
   "cell_type": "code",
   "execution_count": null,
   "metadata": {},
   "outputs": [],
   "source": [
    "reporte_puerto = list()\n",
    "for i in tqdm(importaciones):\n",
    "    for t in periodos[:-2:]:\n",
    "        dato = dict()\n",
    "        dato['Empresa'] = i[0]\n",
    "        dato['Puerto'] = i[1]\n",
    "        dato['Operador'] = i[2]\n",
    "        dato['ingrediente'] = i[3]\n",
    "        dato['Importacion'] = i[4]\n",
    "        dato['Fecha'] = t\n",
    "        dato['Inventario'] = var_inventario_puerto[i][t].varValue\n",
    "        dato['llegadas'] = llegadas_puerto[i][t]\n",
    "        dato['Costo_Almacenamiento'] = int(costo_almacenamiento[i][t])\n",
    "        dato['Costo_Total_Almacenamiento'] = dato['Inventario'] * \\\n",
    "            dato['Costo_Almacenamiento']\n",
    "        reporte_puerto.append(dato)\n",
    "\n",
    "reporte_puerto_df = pd.DataFrame(reporte_puerto)"
   ]
  },
  {
   "cell_type": "code",
   "execution_count": null,
   "metadata": {},
   "outputs": [],
   "source": [
    "reporte_despachos = list()\n",
    "for i in tqdm(importaciones):\n",
    "    for j in plantas:\n",
    "        for t in periodos[1:-2:]:\n",
    "            dato = dict()\n",
    "            dato['Empresa'] = i[0]\n",
    "            dato['Puerto'] = i[1]\n",
    "            dato['Operador'] = i[2]\n",
    "            dato['ingrediente'] = i[3]\n",
    "            dato['Importacion'] = i[4]\n",
    "            dato['Fecha'] = t\n",
    "            dato['Planta'] = j\n",
    "            dato['Camiones_despachados'] = var_despachos[i][j][t].varValue\n",
    "            dato['Costo_Transporte_camion'] = costo_transporte[i][j][t]\n",
    "            dato['Costo_Transprote'] = dato['Camiones_despachados'] * \\\n",
    "                dato['Costo_Transporte_camion']\n",
    "            reporte_despachos.append(dato)\n",
    "\n",
    "reporte_despachos_df = pd.DataFrame(reporte_despachos)"
   ]
  },
  {
   "cell_type": "code",
   "execution_count": null,
   "metadata": {},
   "outputs": [],
   "source": [
    "reporte_inventario_planta = list()\n",
    "for planta in inventario_planta.keys():\n",
    "    for ingrediente in inventario_planta[planta].keys():\n",
    "        for periodo in inventario_planta[planta][ingrediente]:\n",
    "            dato = {\n",
    "                'variable': 'inventario en planta',\n",
    "                'planta': planta,\n",
    "                'ingrediente': ingrediente,\n",
    "                'periodo': periodo,\n",
    "                'valor': inventario_planta[planta][ingrediente][periodo].varValue,\n",
    "                'capacidad': capacidad_planta[planta][ingrediente],\n",
    "                'consumo': consumo_proyectado[planta][ingrediente][periodo],\n",
    "                'backorder': backorder[planta][ingrediente][periodo].varValue,\n",
    "                'objetivo': objetivo_inventario[planta][ingrediente]\n",
    "            }\n",
    "            reporte_inventario_planta.append(dato)\n",
    "\n",
    "reporte_planta_df = pd.DataFrame(reporte_inventario_planta)"
   ]
  },
  {
   "cell_type": "code",
   "execution_count": null,
   "metadata": {},
   "outputs": [],
   "source": [
    "with pd.ExcelWriter('reporte_final.xlsx') as writer:\n",
    "    reporte_puerto_df.to_excel(\n",
    "        writer, sheet_name='inventario_puerto', index=False)\n",
    "    reporte_despachos_df.to_excel(writer, sheet_name='despachos', index=False)\n",
    "    reporte_planta_df.to_excel(\n",
    "        writer, sheet_name='inventario_planta', index=False)"
   ]
  }
 ],
 "metadata": {
  "kernelspec": {
   "display_name": "Python 3 (ipykernel)",
   "language": "python",
   "name": "python3"
  },
  "language_info": {
   "codemirror_mode": {
    "name": "ipython",
    "version": 3
   },
   "file_extension": ".py",
   "mimetype": "text/x-python",
   "name": "python",
   "nbconvert_exporter": "python",
   "pygments_lexer": "ipython3",
   "version": "3.12.3"
  }
 },
 "nbformat": 4,
 "nbformat_minor": 4
}
