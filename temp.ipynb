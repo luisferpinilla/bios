{
 "cells": [
  {
   "cell_type": "code",
   "execution_count": null,
   "metadata": {},
   "outputs": [],
   "source": [
    "from bios_utils.problema import Problema\n",
    "import pandas as pd"
   ]
  },
  {
   "cell_type": "code",
   "execution_count": null,
   "metadata": {},
   "outputs": [],
   "source": [
    "\n",
    "problema = Problema(bios_input_file=\"data/0_model_template_1207.xlsm\")"
   ]
  },
  {
   "cell_type": "code",
   "execution_count": null,
   "metadata": {},
   "outputs": [],
   "source": [
    "# Obtener la lista de todas las exportaciones en un dataframe\n",
    "despachos_df = problema.cargas_despachables_df[[\n",
    "    'Empresa', 'Puerto', 'Operador', 'Ingrediente', 'Importacion']].drop_duplicates()\n",
    "\n",
    "print(despachos_df.shape)"
   ]
  },
  {
   "cell_type": "code",
   "execution_count": null,
   "metadata": {},
   "outputs": [],
   "source": [
    "despachos_df"
   ]
  },
  {
   "cell_type": "code",
   "execution_count": null,
   "metadata": {},
   "outputs": [],
   "source": [
    "peridos_df = pd.DataFrame(problema.periodos, columns=['Fecha'])"
   ]
  },
  {
   "cell_type": "code",
   "execution_count": null,
   "metadata": {},
   "outputs": [],
   "source": [
    "# Cruzar con la columna de periodos\n",
    "despachos_df = pd.merge(left=despachos_df, right=peridos_df, how='cross')\n",
    "\n",
    "print(despachos_df.shape)"
   ]
  },
  {
   "cell_type": "code",
   "execution_count": null,
   "metadata": {},
   "outputs": [],
   "source": [
    "despachos_df = pd.merge(left=despachos_df,\n",
    "                        right=problema.costos_almacenamiento_df.drop_duplicates(),\n",
    "                        left_on=['Empresa', 'Puerto', 'Operador',\n",
    "                                 'Ingrediente', 'Importacion', 'Fecha'],\n",
    "                        right_on=['empresa', 'puerto', 'operador',\n",
    "                                  'ingrediente', 'importacion', 'fecha_corte'],\n",
    "                        how='left').drop(columns=['empresa', 'puerto', 'operador', 'ingrediente',\n",
    "                                                  'importacion', 'fecha_corte']).rename(columns={'valor_kg': 'almacenamiento_kg'}).fillna(0.0)\n",
    "\n",
    "print(despachos_df.shape)"
   ]
  },
  {
   "cell_type": "code",
   "execution_count": null,
   "metadata": {},
   "outputs": [],
   "source": [
    "bodegaje_df = pd.merge(left=problema.tto_puerto_df.groupby(['Empresa', 'Puerto', 'Operador', 'Ingrediente', 'Importacion'])[['Fecha']].max().reset_index(),\n",
    "                       right=problema.costo_portuario_bodegaje_df.rename(\n",
    "                           columns={'valor_kg': 'bodegaje_kg'}),\n",
    "                       left_on=['Puerto', 'Operador', 'Ingrediente'],\n",
    "                       right_on=['puerto', 'operador', 'ingrediente'],\n",
    "                       how='left').drop(columns=['puerto', 'operador', 'ingrediente'])\n",
    "print(bodegaje_df.shape)"
   ]
  },
  {
   "cell_type": "code",
   "execution_count": null,
   "metadata": {},
   "outputs": [],
   "source": [
    "despachos_df = pd.merge(left=despachos_df,\n",
    "                        right=bodegaje_df,\n",
    "                        left_on=['Empresa', 'Puerto', 'Operador',\n",
    "                                 'Ingrediente', 'Importacion', 'Fecha'],\n",
    "                        right_on=['Empresa', 'Puerto', 'Operador',\n",
    "                                  'Ingrediente', 'Importacion', 'Fecha'],\n",
    "                        how='left').fillna(0.0)\n",
    "print(despachos_df.shape)"
   ]
  },
  {
   "cell_type": "code",
   "execution_count": null,
   "metadata": {},
   "outputs": [],
   "source": [
    "fletes_df = problema.fletes_df.melt(id_vars=['puerto', 'operador', 'ingrediente'],\n",
    "                                    value_vars=problema.fletes_df.drop(\n",
    "                                        columns=['puerto', 'operador', 'ingrediente']).columns,\n",
    "                                    var_name='planta',\n",
    "                                    value_name='flete_kg')"
   ]
  },
  {
   "cell_type": "code",
   "execution_count": null,
   "metadata": {},
   "outputs": [],
   "source": [
    "fletes_df['flete_camion'] = 34000*fletes_df['flete_kg']"
   ]
  },
  {
   "cell_type": "code",
   "execution_count": null,
   "metadata": {},
   "outputs": [],
   "source": [
    "despachos_df = pd.merge(left=despachos_df,\n",
    "                        right=fletes_df,\n",
    "                        left_on=['Puerto', 'Operador', 'Ingrediente'],\n",
    "                        right_on=['puerto', 'operador', 'ingrediente'],\n",
    "                        how='left').drop(columns=['puerto', 'operador', 'ingrediente', 'flete_kg'])\n",
    "\n",
    "print(despachos_df.shape)"
   ]
  },
  {
   "cell_type": "code",
   "execution_count": null,
   "metadata": {},
   "outputs": [],
   "source": [
    "despachos_df = pd.merge(left=despachos_df,\n",
    "                        right=problema.costo_portuario_directo_df.rename(\n",
    "                            columns={'Directo': 'directo_kg'}),\n",
    "                        left_on=['Operador', 'Puerto', 'Ingrediente'],\n",
    "                        right_on=['Operador', 'Puerto', 'Ingrediente'],\n",
    "                        how='left')"
   ]
  },
  {
   "cell_type": "code",
   "execution_count": null,
   "metadata": {},
   "outputs": [],
   "source": [
    "despachos_df.shape"
   ]
  },
  {
   "cell_type": "code",
   "execution_count": null,
   "metadata": {},
   "outputs": [],
   "source": [
    "despachos_df = pd.merge(left=despachos_df,\n",
    "                        right=problema.transitos_a_puerto_df.reset_index().drop(\n",
    "                            columns=['Inventario', 'valor_kg', 'Camiones']),\n",
    "                        left_on=['Empresa', 'Puerto', 'Operador',\n",
    "                                 'Ingrediente', 'Importacion', 'Fecha'],\n",
    "                        right_on=['Empresa', 'Puerto', 'Operador',\n",
    "                                  'Ingrediente', 'Importacion', 'Fecha'],\n",
    "                        how='left')\n",
    "despachos_df['Llegada'] = despachos_df['Llegada'].fillna(0.0)"
   ]
  },
  {
   "cell_type": "code",
   "execution_count": null,
   "metadata": {},
   "outputs": [],
   "source": [
    "despachos_df['costo_almacenamiento_kg'] = despachos_df['bodegaje_kg'] + \\\n",
    "    despachos_df['almacenamiento_kg']"
   ]
  },
  {
   "cell_type": "code",
   "execution_count": null,
   "metadata": {},
   "outputs": [],
   "source": [
    "despachos_df['costo_almacenamiento_camion'] = 34000 * \\\n",
    "    despachos_df['costo_almacenamiento_kg']"
   ]
  },
  {
   "cell_type": "code",
   "execution_count": null,
   "metadata": {},
   "outputs": [],
   "source": [
    "# Extraer el vector de costos de almacenamiento\n",
    "temp = despachos_df.pivot_table(index=['Empresa', 'Puerto', 'Operador', 'Ingrediente',\n",
    "                                'Importacion'], columns='Fecha', values='costo_almacenamiento_camion', aggfunc='mean')"
   ]
  },
  {
   "cell_type": "code",
   "execution_count": null,
   "metadata": {},
   "outputs": [],
   "source": [
    "from itertools import accumulate\n",
    "\n",
    "\n",
    "def suma_acumulada_inversa(fila):\n",
    "    fila_invertida = fila[::-1]\n",
    "    suma_acumulada_invertida = list(accumulate(fila_invertida))\n",
    "    return suma_acumulada_invertida[::-1]"
   ]
  },
  {
   "cell_type": "code",
   "execution_count": null,
   "metadata": {},
   "outputs": [],
   "source": [
    "titulos = list(temp.columns)"
   ]
  },
  {
   "cell_type": "code",
   "execution_count": null,
   "metadata": {},
   "outputs": [],
   "source": [
    "temp = temp[temp.columns].apply(suma_acumulada_inversa, axis=1).reset_index()"
   ]
  },
  {
   "cell_type": "code",
   "execution_count": null,
   "metadata": {},
   "outputs": [],
   "source": [
    "for i in titulos:\n",
    "    temp[i] = [temp[0][j][titulos.index(i)] for j in range(temp.shape[0])]"
   ]
  },
  {
   "cell_type": "code",
   "execution_count": null,
   "metadata": {},
   "outputs": [],
   "source": [
    "temp = temp.melt(id_vars=['Empresa', 'Puerto', 'Operador', 'Ingrediente', 'Importacion'],\n",
    "                 value_vars=titulos,\n",
    "                 value_name='ahorro_almacenamiento_kg',\n",
    "                 var_name='Fecha')"
   ]
  },
  {
   "cell_type": "code",
   "execution_count": null,
   "metadata": {},
   "outputs": [],
   "source": [
    "despachos_df = pd.merge(left=despachos_df,\n",
    "                        right=temp,\n",
    "                        left_on=['Empresa', 'Puerto', 'Operador',\n",
    "                                 'Ingrediente', 'Importacion', 'Fecha'],\n",
    "                        right_on=['Empresa', 'Puerto', 'Operador',\n",
    "                                  'Ingrediente', 'Importacion', 'Fecha'],\n",
    "                        how='left')"
   ]
  },
  {
   "cell_type": "code",
   "execution_count": null,
   "metadata": {},
   "outputs": [],
   "source": [
    "despachos_df[(despachos_df['Importacion'] == '5660SERVETTE')\n",
    "             & (despachos_df['planta'] == 'envigado')].head()"
   ]
  },
  {
   "cell_type": "code",
   "execution_count": null,
   "metadata": {},
   "outputs": [],
   "source": [
    "despachos_df['Costo_Camion'] = despachos_df.apply(\n",
    "    lambda x: x['flete_camion'] + 34000*x['directo_kg'] if x['Llegada'] > 0 else x['flete_camion'], axis=1)"
   ]
  },
  {
   "cell_type": "code",
   "execution_count": null,
   "metadata": {},
   "outputs": [],
   "source": [
    "despachos_df['Neto_Objetivo'] = despachos_df['Costo_Camion'] - \\\n",
    "    despachos_df['ahorro_almacenamiento_kg']"
   ]
  },
  {
   "cell_type": "code",
   "execution_count": null,
   "metadata": {},
   "outputs": [],
   "source": [
    "despachos_df['Var_Name'] = despachos_df.apply(\n",
    "    lambda x: f\"{x['Empresa']}_{x['Puerto']}_{x['Operador']}_{x['Ingrediente']}_{x['Importacion']}_{x['Fecha']}\", axis=1)"
   ]
  },
  {
   "cell_type": "code",
   "execution_count": null,
   "metadata": {},
   "outputs": [],
   "source": [
    "despachos_df"
   ]
  }
 ],
 "metadata": {
  "kernelspec": {
   "display_name": "env",
   "language": "python",
   "name": "python3"
  },
  "language_info": {
   "codemirror_mode": {
    "name": "ipython",
    "version": 3
   },
   "file_extension": ".py",
   "mimetype": "text/x-python",
   "name": "python",
   "nbconvert_exporter": "python",
   "pygments_lexer": "ipython3",
   "version": "3.11.4"
  }
 },
 "nbformat": 4,
 "nbformat_minor": 2
}
